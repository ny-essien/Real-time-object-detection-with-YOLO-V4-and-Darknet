{
  "nbformat": 4,
  "nbformat_minor": 0,
  "metadata": {
    "colab": {
      "provenance": [],
      "mount_file_id": "1HAWHRHssl80IUzHG9_3YVG5QHtIPKCLy",
      "authorship_tag": "ABX9TyMveLnMkmHX6hiF3nDtFOXj",
      "include_colab_link": true
    },
    "kernelspec": {
      "name": "python3",
      "display_name": "Python 3"
    },
    "language_info": {
      "name": "python"
    }
  },
  "cells": [
    {
      "cell_type": "markdown",
      "metadata": {
        "id": "view-in-github",
        "colab_type": "text"
      },
      "source": [
        "<a href=\"https://colab.research.google.com/github/ny-essien/Real-time-object-detection-with-YOLO-V4-and-Darknet/blob/main/file.ipynb\" target=\"_parent\"><img src=\"https://colab.research.google.com/assets/colab-badge.svg\" alt=\"Open In Colab\"/></a>"
      ]
    },
    {
      "cell_type": "code",
      "execution_count": 1,
      "metadata": {
        "id": "-2igd2DyOV5W",
        "colab": {
          "base_uri": "https://localhost:8080/"
        },
        "outputId": "d1d5b7bc-d1e2-483c-867b-b91fabb6b408"
      },
      "outputs": [
        {
          "output_type": "stream",
          "name": "stdout",
          "text": [
            "Mounted at /content/google_drive\n"
          ]
        }
      ],
      "source": [
        "from google.colab import drive\n",
        "drive.mount(\"/content/google_drive\")"
      ]
    },
    {
      "cell_type": "code",
      "source": [
        "!ln -s /content/google_drive/My\\ Drive/ /mydrive"
      ],
      "metadata": {
        "id": "6dMmqKUfYHkB"
      },
      "execution_count": 2,
      "outputs": []
    },
    {
      "cell_type": "code",
      "source": [
        "!ls /mydrive"
      ],
      "metadata": {
        "colab": {
          "base_uri": "https://localhost:8080/"
        },
        "id": "anGbt4LPYuFR",
        "outputId": "8c1657c8-07eb-4a90-9834-d1ed0cdf57ae"
      },
      "execution_count": 8,
      "outputs": [
        {
          "output_type": "stream",
          "name": "stdout",
          "text": [
            "'Colab Notebooks'\t\t\t\t\t\t\t\t   Untitled0.ipynb\n",
            "'Copy of A Textbook of Machine Design by R.S.KHURMI AND J.K.GUPTA [tortuka].pdf'   Untitled1.ipynb\n",
            " DO_NOT_DELETE_FOR_Bitget_Wallet_Backup\t\t\t\t\t\t   Untitled2.ipynb\n",
            "'Machine Learning A-Z (Codes and Datasets)'\n"
          ]
        }
      ]
    },
    {
      "cell_type": "code",
      "source": [
        "!ls"
      ],
      "metadata": {
        "colab": {
          "base_uri": "https://localhost:8080/"
        },
        "id": "uXLF-67PZPWr",
        "outputId": "deb05c5f-229f-4f8e-8d88-069daf220761"
      },
      "execution_count": 9,
      "outputs": [
        {
          "output_type": "stream",
          "name": "stdout",
          "text": [
            "drive  google_drive  lab-6  sample_data\n"
          ]
        }
      ]
    },
    {
      "cell_type": "code",
      "source": [
        "!cp -r lab-6 /mydrive"
      ],
      "metadata": {
        "id": "C8RIpRkSZmPX"
      },
      "execution_count": 12,
      "outputs": []
    }
  ]
}